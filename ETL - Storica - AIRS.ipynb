{
 "cells": [
  {
   "cell_type": "markdown",
   "metadata": {},
   "source": [
    "# Structure of File:\n",
    "\n",
    "## Part 1 - For Storica db Values\n",
    "### A) Details for getting the files to the local computer\n",
    "### B) Read files into IPYNB file\n",
    "### C) Process files (e.g. adjust timestamps as necessairy\n",
    "### D) Save to SQL database\n",
    "\n",
    "## Part 2 - For Storica sensor values"
   ]
  },
  {
   "cell_type": "markdown",
   "metadata": {},
   "source": [
    "<hr>"
   ]
  },
  {
   "cell_type": "markdown",
   "metadata": {},
   "source": [
    "# Part 1 - Storica Values"
   ]
  },
  {
   "cell_type": "markdown",
   "metadata": {},
   "source": [
    "### A) Details for getting the files to the local computer"
   ]
  },
  {
   "cell_type": "markdown",
   "metadata": {},
   "source": [
    "Here are the steps to get the data.\n",
    "1. Samsung Note 5: Storica App: Stop recording -> settings -> backup -> Restart recording\n",
    "2. Samsung Note 5: Open OneSync -> Set it to sync in cloud\n",
    "3. Microsoft OneDrive -> Download to \"OMdata/raw/storica\"\n",
    "\n",
    "Additionally, the table of sensor abbreviations is retrieved from here: http://tecvis.co.uk/software/airs/developer-information/list-of-supported-sensor-symbols-in-airs"
   ]
  },
  {
   "cell_type": "markdown",
   "metadata": {},
   "source": [
    "### B) Read files into IPYNB file"
   ]
  },
  {
   "cell_type": "code",
   "execution_count": 25,
   "metadata": {
    "collapsed": false
   },
   "outputs": [],
   "source": [
    "#This is the path nec. for sql io\n",
    "path = \"../OMdata/raw/storica/Storica_backup.db\""
   ]
  },
  {
   "cell_type": "code",
   "execution_count": 23,
   "metadata": {
    "collapsed": true
   },
   "outputs": [],
   "source": [
    "import pandas as pd\n",
    "import sqlite3\n",
    "from datetime import datetime"
   ]
  },
  {
   "cell_type": "code",
   "execution_count": 90,
   "metadata": {
    "collapsed": false
   },
   "outputs": [
    {
     "name": "stdout",
     "output_type": "stream",
     "text": [
      "(2246754, 4)\n"
     ]
    }
   ],
   "source": [
    "with sqlite3.connect(path) as con:\n",
    "    sql = \"SELECT * FROM airs_values\"\n",
    "    airs_values_df = pd.read_sql_query(sql, con)\n",
    "    print airs_values_df.shape"
   ]
  },
  {
   "cell_type": "code",
   "execution_count": 91,
   "metadata": {
    "collapsed": false
   },
   "outputs": [],
   "source": [
    "airs_values_df[\"time_index\"] = [datetime.utcfromtimestamp(x/1000).strftime('%Y-%m-%dT%H:%M:%SZ:%MZ') for x in airs_values_df[\"Timestamp\"]]"
   ]
  },
  {
   "cell_type": "code",
   "execution_count": 86,
   "metadata": {
    "collapsed": false
   },
   "outputs": [
    {
     "data": {
      "text/html": [
       "<div>\n",
       "<table border=\"1\" class=\"dataframe\">\n",
       "  <thead>\n",
       "    <tr style=\"text-align: right;\">\n",
       "      <th></th>\n",
       "      <th>Timestamp</th>\n",
       "      <th>Symbol</th>\n",
       "      <th>Value</th>\n",
       "      <th>time_index</th>\n",
       "    </tr>\n",
       "  </thead>\n",
       "  <tbody>\n",
       "    <tr>\n",
       "      <th>0</th>\n",
       "      <td>1462754313016</td>\n",
       "      <td>AF</td>\n",
       "      <td>430</td>\n",
       "      <td>2016-05-09T00:38:33Z:38Z</td>\n",
       "    </tr>\n",
       "    <tr>\n",
       "      <th>1</th>\n",
       "      <td>1462754314241</td>\n",
       "      <td>AS</td>\n",
       "      <td>34.64</td>\n",
       "      <td>2016-05-09T00:38:34Z:38Z</td>\n",
       "    </tr>\n",
       "    <tr>\n",
       "      <th>2</th>\n",
       "      <td>1462754319312</td>\n",
       "      <td>AF</td>\n",
       "      <td>388</td>\n",
       "      <td>2016-05-09T00:38:39Z:38Z</td>\n",
       "    </tr>\n",
       "    <tr>\n",
       "      <th>3</th>\n",
       "      <td>1462754320551</td>\n",
       "      <td>AS</td>\n",
       "      <td>36.31</td>\n",
       "      <td>2016-05-09T00:38:40Z:38Z</td>\n",
       "    </tr>\n",
       "    <tr>\n",
       "      <th>4</th>\n",
       "      <td>1462754325571</td>\n",
       "      <td>AF</td>\n",
       "      <td>383</td>\n",
       "      <td>2016-05-09T00:38:45Z:38Z</td>\n",
       "    </tr>\n",
       "  </tbody>\n",
       "</table>\n",
       "</div>"
      ],
      "text/plain": [
       "       Timestamp Symbol  Value                time_index\n",
       "0  1462754313016     AF    430  2016-05-09T00:38:33Z:38Z\n",
       "1  1462754314241     AS  34.64  2016-05-09T00:38:34Z:38Z\n",
       "2  1462754319312     AF    388  2016-05-09T00:38:39Z:38Z\n",
       "3  1462754320551     AS  36.31  2016-05-09T00:38:40Z:38Z\n",
       "4  1462754325571     AF    383  2016-05-09T00:38:45Z:38Z"
      ]
     },
     "execution_count": 86,
     "metadata": {},
     "output_type": "execute_result"
    }
   ],
   "source": [
    "airs_values_df.head()"
   ]
  },
  {
   "cell_type": "code",
   "execution_count": 97,
   "metadata": {
    "collapsed": false
   },
   "outputs": [],
   "source": [
    "pd.to_pickle(airs_values_df,\"airs_values_df.pickle\")"
   ]
  },
  {
   "cell_type": "code",
   "execution_count": null,
   "metadata": {
    "collapsed": true
   },
   "outputs": [],
   "source": []
  },
  {
   "cell_type": "markdown",
   "metadata": {},
   "source": [
    "# Part 2 - Storica Lookup Table"
   ]
  },
  {
   "cell_type": "code",
   "execution_count": 62,
   "metadata": {
    "collapsed": true
   },
   "outputs": [],
   "source": [
    "sensors_text = \"\"\"AS: Average audio amplitude in dB (sound pressure level), providing surrounding noise level with adjustable sampling rate and interval of sensing (note that the sensor needs one second to sample so that values are read roughly every interval+1 seconds!). In the preferences, a setting can be defined to adjust the sound level in dB in order to accommodate possible differences in phone hardware. (NOTE: the old AA sensor has been deprecated since V2.0.4)\n",
    "AF: Estimated audio frequency in Hertz, measured based on an assumed sinus input into the microphone. Sampling rate and interval of sensing can be adjusted.\n",
    "BN: Number of Bluetooth devices around with interval of sensing being adjustable.\n",
    "BP: self-recorded blood pressure values. Use the AIRS blood pressure widget to input the values.\n",
    "Ba: Battery level of the device in %\n",
    "BV: Battery voltage in mV\n",
    "Bc: Battery charging status with 0 (not charging) and 1 (charging)\n",
    "BM: Battery temperature in Celsius\n",
    "BT: Bluetooth devices around with MAC and Bluetooth name being sensed. Interval of sensing can be adjusted.\n",
    "CA: Calendar event from one of the selected calendars. The value is stored as “title:location:begin:end” with begin and end counted as milliseconds from epoch.\n",
    "CR: Cellular roaming with 0 (not roaming) and 1 (roaming) value (only GSM phones are supported!)\n",
    "CD: Cellular data being connected with 1 (connected) and 0 (not connected) value (only GSM phones are supported!)\n",
    "CS: Cellular signal strength in dBm (only GSM phones are supported!)\n",
    "CB: Cellular signal strength in bars (only GSM phones are supported!)\n",
    "CI: Cellular cell identifier as integer (only GSM phones are supported!)\n",
    "CL: Cellular location area code as integer (only GSM phones are supported!)\n",
    "CC: Cellular network code as integer (only GSM phones are supported!)\n",
    "DS: Amount of data that has been sent during the day in kB\n",
    "DR: Amount of data that has been received during the day in kB\n",
    "EB: Event button signal with 1 (pressed) and 0 (not pressed). For this, the AIRS event button widget needs to be added to the launcher screen. When pressing, a haptic feedback is given.\n",
    "ET: you can share any text to AIRS through the standard AIRS sharing dialog. For instance, when selecting some text in an email, press Copy in the usual Copy&Paste dialog, wait for the sharing dialog to appear and select AIRS from the list of possible programs. AIRS will record the shared text as well as the program from which you shared as a value.\n",
    "MO: Mood button signal with strings like “Happy”, “Content”, “Surprised”, “Angry” and “Sad” being stored. For this, the AIRS mood button widget needs to be added to the launcher screen. When pressing, a haptic feedback is given.\n",
    "GO: GPS longitude in degrees as float value with GPS polling interval and accuracy adjustable (note that if recording GO and GL separately, only one might be recorded within a time interval if the other remains unchanged – this can happen when GPS values only slightly fluctuate, e.g., when standing!).\n",
    "GL: GPS latitude in degrees as float valueÂ with GPS polling interval and accuracy adjustable (note that if recording GO and GL separately, only one might be recorded within a time interval if the other remains unchanged – this can happen when GPS values only slightly fluctuate, e.g., when standing!).\n",
    "GA: GPS altitude in meters as float valueÂ with GPS polling interval and accuracy adjustable\n",
    "GI: GPS information as string with format “longitude:latitude:altitude” with GPS polling interval and accuracy adjustable\n",
    "GS: GPS speed in meters/sÂ with GPS polling interval and accuracy adjustable\n",
    "GC: GPS heading in degrees (0 to 360) with GPS polling interval and accuracy adjustable\n",
    "HL: Battery level of the Zephyr HxM heart rate monitor or a BTLE-compatible heart rate monitor (depending on selected device type) in %18_HxMBT-Transparent\n",
    "HP: Pulse determined by the selected heart rate monitor in beats per minute (bpm)\n",
    "HI: Instant speed in meters per second determined by the Zephyr HxM heart rate monitor\n",
    "HU: Ambient relative humidity (currently only supported in Galaxy S4)\n",
    "Az: Azimuth of the orientation sensor from 0 to 360 in degrees with polling interval being adjustable\n",
    "Ro: Roll of the device in degrees from -90 to 90 with polling interval being adjustable\n",
    "Pi: Pitch of the device in degrees from -180 to 180 with polling interval being adjustable\n",
    "LI: Light sensor in Lux with polling interval being adjustabl\n",
    "MS: Amount of cellular data that has been sent during the day in kB\n",
    "MR: Amount of cellular data that has been received during the day in kB\n",
    "MP: Currently playing music with artist, album and track (‘currently playing’ means that it has been selected by the media player – although the player might not be playing it anymore!)\n",
    "MA: Currently playing artist (‘currently playing’ means that it has been selected by the media player – although the player might not be playing it anymore!)\n",
    "ML: Currently playing album (‘currently playing’ means that it has been selected by the media player – although the player might not be playing it anymore!)\n",
    "MT: Currently playing track (‘currently playing’ means that it has been selected by the media player – although the player might not be playing it anymore!)\n",
    "MW: Watches defined folders for camera, pictures, music and videos. Readings contain the type of media (currently camera, pictures, videos and music) and the file being created\n",
    "PR: Proximity sensor in meter distance (most devices only support far/near values) with polling interval being adjustable\n",
    "PU: Pressure (barometer) sensor for devices like the Galaxy Nexus, measured in hPa\n",
    "PD: step count since AIRS was started. If you stop and start AIRS again, it will count from zero (introduced in 2.7.7 and only supported on phones that have this hardware sensors such as Nexus 5)\n",
    "TR: list of running tasks with suffix of package name (such as airs) being stored in each line of the sensor value\n",
    "TV: list of programs that have some form of visible element or perceptible interaction with the user. These are usually the programs you are interacting with although some services might be listed here, too (AIRS tries to remove most of the services but some are not shown properly by the system)\n",
    "NO: notification from IM programs. Currently, Skype and Google talk are supported. For Skype, AIRS will record the name of the user who sent you something, while for Google Talk, AIRS will record the name and message. For the sensor to work, you will need to switch on the AIRS accessibility service in the system settings (you can do that through the AIRS settings, too).\n",
    "Rm: available RAM\n",
    "Sc: Screen on with 0 (off) and 1 (on) values\n",
    "HS: Headset plugged (value 1) or not (value 0)\n",
    "IC: Incoming phone call with number (and contact name, if available) being stored\n",
    "OC: Outgoing call being placed with number (and contact name, if available)Â being stored\n",
    "SR: SMS being received with string ‘number:name:message text‘ being stored (name being “—“, if not available)\n",
    "SS: SMS being sent with string ‘number:name:message text‘ being stored (name being “—“, if not available)\n",
    "TE: records the recording template that was used when starting AIRS\n",
    "TM: Ambient temperature (currently only supported in Galaxy S4) in Celcius\n",
    "TZ: current timezone offset in relation to UTC (introduced in 2.7.4)\n",
    "WI: Wifi SSID of all scanned WLAN networks as a string with each network separated by new line with scanning interval being adjustable\n",
    "WS: Wifi signal strength of all scanned WLAN networks as a string with each network separated by new lineÂ with scanning interval being adjustable\n",
    "WM: Wifi MAC address of all scanned WLAN networks as a string with each network separated by new lineÂ with scanning interval being adjustable\n",
    "WF: Wifi information (SSID, MAC, signal strength) of all scanned WLAN networks as a string with each network separated by new lineÂ with scanning interval being adjustable\n",
    "WC: Wifi connected with 0 (not connected) and 1 (connected)\n",
    "VT: Temperature at current location in Celcius – this sensor uses the Google weather API (connectivity required)\n",
    "VF: Temperature at current location in Fahrenheit – this sensor uses the Google weather API (connectivity required)\n",
    "VH: Humidity at current location in % – this sensor uses the Google weather API (connectivity required)\n",
    "VC: Conditions (like sunny, cloudy) at current location – this sensor uses the Google weather API (connectivity required)\n",
    "VW: Wind at current location – this sensor uses the Google weather API (connectivity required)\n",
    "VI: combined weather information in the form “lat:long:value of VC:value of VF:value of VH:value of VC:value of VW” – this allows parsing in one go with a single timestamp. The (lat,long) pair is the one used for current location – this sensor uses the Google weather API (connectivity required)\n",
    "Rd: Random number generator for testing purposes with values between 0 and 65535\"\"\""
   ]
  },
  {
   "cell_type": "code",
   "execution_count": 93,
   "metadata": {
    "collapsed": false
   },
   "outputs": [
    {
     "data": {
      "text/html": [
       "<div>\n",
       "<table border=\"1\" class=\"dataframe\">\n",
       "  <thead>\n",
       "    <tr style=\"text-align: right;\">\n",
       "      <th></th>\n",
       "      <th>name</th>\n",
       "      <th>description</th>\n",
       "    </tr>\n",
       "  </thead>\n",
       "  <tbody>\n",
       "    <tr>\n",
       "      <th>0</th>\n",
       "      <td>AS</td>\n",
       "      <td>Average audio amplitude in dB (sound pressure...</td>\n",
       "    </tr>\n",
       "    <tr>\n",
       "      <th>1</th>\n",
       "      <td>AF</td>\n",
       "      <td>Estimated audio frequency in Hertz, measured ...</td>\n",
       "    </tr>\n",
       "    <tr>\n",
       "      <th>2</th>\n",
       "      <td>BN</td>\n",
       "      <td>Number of Bluetooth devices around with inter...</td>\n",
       "    </tr>\n",
       "    <tr>\n",
       "      <th>3</th>\n",
       "      <td>BP</td>\n",
       "      <td>self-recorded blood pressure values. Use the ...</td>\n",
       "    </tr>\n",
       "    <tr>\n",
       "      <th>4</th>\n",
       "      <td>Ba</td>\n",
       "      <td>Battery level of the device in %</td>\n",
       "    </tr>\n",
       "  </tbody>\n",
       "</table>\n",
       "</div>"
      ],
      "text/plain": [
       "  name                                        description\n",
       "0   AS   Average audio amplitude in dB (sound pressure...\n",
       "1   AF   Estimated audio frequency in Hertz, measured ...\n",
       "2   BN   Number of Bluetooth devices around with inter...\n",
       "3   BP   self-recorded blood pressure values. Use the ...\n",
       "4   Ba                   Battery level of the device in %"
      ]
     },
     "execution_count": 93,
     "metadata": {},
     "output_type": "execute_result"
    }
   ],
   "source": [
    "n = len(sensors_text.split(\"\\n\"))\n",
    "\n",
    "my_list = [sensors_text.split(\"\\n\")[x].split(\":\") for x in range(n)]   # List of 71 smaller lists - Splits into paragraphs/lines -> Splits into tuples of sensor:sensor description\n",
    "airs_sensor_descriptions_raw = zip(*my_list)  # Converts to a list of 2 lists - 1st list is a list of sensor abbreviations and the second is a list of sensor descriptions\n",
    "\n",
    "airs_sensor_descriptions_df = pd.DataFrame([airs_sensor_descriptions_raw[0],airs_sensor_descriptions_raw[1]],index=[\"name\",\"description\"]).T\n",
    "airs_sensor_descriptions_df.head()"
   ]
  },
  {
   "cell_type": "code",
   "execution_count": 99,
   "metadata": {
    "collapsed": false
   },
   "outputs": [],
   "source": [
    "pd.to_pickle(airs_sensor_descriptions_df,\"airs_sensor_descriptions_df.pickle\")"
   ]
  },
  {
   "cell_type": "code",
   "execution_count": 89,
   "metadata": {
    "collapsed": false
   },
   "outputs": [
    {
     "ename": "TypeError",
     "evalue": "to_sql() takes at least 3 arguments (1 given)",
     "output_type": "error",
     "traceback": [
      "\u001b[0;31m---------------------------------------------------------------------------\u001b[0m",
      "\u001b[0;31mTypeError\u001b[0m                                 Traceback (most recent call last)",
      "\u001b[0;32m<ipython-input-89-8488ea049760>\u001b[0m in \u001b[0;36m<module>\u001b[0;34m()\u001b[0m\n\u001b[0;32m----> 1\u001b[0;31m \u001b[0mairs_sensor_descriptions_raw_df\u001b[0m\u001b[0;34m.\u001b[0m\u001b[0mto_sql\u001b[0m\u001b[0;34m(\u001b[0m\u001b[0;34m)\u001b[0m\u001b[0;34m\u001b[0m\u001b[0m\n\u001b[0m",
      "\u001b[0;31mTypeError\u001b[0m: to_sql() takes at least 3 arguments (1 given)"
     ]
    }
   ],
   "source": [
    "??\n",
    "\n",
    "airs_sensor_descriptions_raw_df.to_sql()"
   ]
  },
  {
   "cell_type": "code",
   "execution_count": null,
   "metadata": {
    "collapsed": true
   },
   "outputs": [],
   "source": []
  },
  {
   "cell_type": "code",
   "execution_count": null,
   "metadata": {
    "collapsed": true
   },
   "outputs": [],
   "source": []
  },
  {
   "cell_type": "markdown",
   "metadata": {},
   "source": [
    "<hr>"
   ]
  },
  {
   "cell_type": "code",
   "execution_count": 60,
   "metadata": {
    "collapsed": false
   },
   "outputs": [],
   "source": [
    "# from sqlalchemy import *\n",
    "\n",
    "#This is the path nec. for sql alchemy\n",
    "#path = \"sqlite:///../OMdata/raw/storica/Storica_backup.db\"\n",
    "\n",
    "# db = create_engine(path)\n",
    "# db.echo = False  # Try changing this to True and see what happens\n",
    "\n",
    "# metadata = MetaData(db)\n",
    "# airs_values = Table('airs_values', metadata, autoload=True)\n",
    "# airs_values"
   ]
  },
  {
   "cell_type": "code",
   "execution_count": null,
   "metadata": {
    "collapsed": true
   },
   "outputs": [],
   "source": []
  }
 ],
 "metadata": {
  "kernelspec": {
   "display_name": "Python 2",
   "language": "python",
   "name": "python2"
  },
  "language_info": {
   "codemirror_mode": {
    "name": "ipython",
    "version": 2
   },
   "file_extension": ".py",
   "mimetype": "text/x-python",
   "name": "python",
   "nbconvert_exporter": "python",
   "pygments_lexer": "ipython2",
   "version": "2.7.11"
  }
 },
 "nbformat": 4,
 "nbformat_minor": 0
}
